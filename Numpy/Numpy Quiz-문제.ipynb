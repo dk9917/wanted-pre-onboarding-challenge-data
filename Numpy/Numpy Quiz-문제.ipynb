{
 "cells": [
  {
   "cell_type": "code",
   "execution_count": 1,
   "id": "7d34f957",
   "metadata": {},
   "outputs": [],
   "source": [
    "# 필요한 라이브러리를 불러옵니다.\n",
    "import numpy as np"
   ]
  },
  {
   "attachments": {},
   "cell_type": "markdown",
   "id": "e35027db",
   "metadata": {},
   "source": [
    "### 1. 값이 10~49인 numpy array를 만드세요"
   ]
  },
  {
   "cell_type": "code",
   "execution_count": 20,
   "id": "186a443c",
   "metadata": {},
   "outputs": [
    {
     "name": "stdout",
     "output_type": "stream",
     "text": [
      "[10 11 12 13 14 15 16 17 18 19 20 21 22 23 24 25 26 27 28 29 30 31 32 33\n",
      " 34 35 36 37 38 39 40 41 42 43 44 45 46 47 48 49]\n"
     ]
    }
   ],
   "source": [
    "z = np.arange(10, 50)\n",
    "print(z)"
   ]
  },
  {
   "attachments": {},
   "cell_type": "markdown",
   "id": "7fe92102",
   "metadata": {},
   "source": [
    "### 2. z를 반전하세요."
   ]
  },
  {
   "cell_type": "code",
   "execution_count": 21,
   "id": "f78638fa",
   "metadata": {},
   "outputs": [
    {
     "name": "stdout",
     "output_type": "stream",
     "text": [
      "[49 48 47 46 45 44 43 42 41 40 39 38 37 36 35 34 33 32 31 30 29 28 27 26\n",
      " 25 24 23 22 21 20 19 18 17 16 15 14 13 12 11 10]\n"
     ]
    }
   ],
   "source": [
    "z = np.flip(z)\n",
    "print(z)"
   ]
  },
  {
   "attachments": {},
   "cell_type": "markdown",
   "id": "a04b347c",
   "metadata": {},
   "source": [
    "### 3. 반전시킨 z 매트릭스를 10 x 4 매트릭스로 바꾸세요."
   ]
  },
  {
   "cell_type": "code",
   "execution_count": 22,
   "id": "fcf79ba9",
   "metadata": {},
   "outputs": [
    {
     "name": "stdout",
     "output_type": "stream",
     "text": [
      "[[49 48 47 46]\n",
      " [45 44 43 42]\n",
      " [41 40 39 38]\n",
      " [37 36 35 34]\n",
      " [33 32 31 30]\n",
      " [29 28 27 26]\n",
      " [25 24 23 22]\n",
      " [21 20 19 18]\n",
      " [17 16 15 14]\n",
      " [13 12 11 10]]\n"
     ]
    }
   ],
   "source": [
    "z = z.reshape(10, 4)\n",
    "print(z)"
   ]
  },
  {
   "attachments": {},
   "cell_type": "markdown",
   "id": "a8fb1466",
   "metadata": {},
   "source": [
    "### 4. x에서 0이 아닌 요소의 색인을 찾아보세요."
   ]
  },
  {
   "cell_type": "code",
   "execution_count": 15,
   "id": "0b0944c7",
   "metadata": {},
   "outputs": [
    {
     "name": "stdout",
     "output_type": "stream",
     "text": [
      "[0 1 2 4 6]\n"
     ]
    }
   ],
   "source": [
    "x = np.array([5,6,8,0,1,0,7])\n",
    "nz_idx = np.nonzero(x)[0]\n",
    "print(nz_idx)"
   ]
  },
  {
   "attachments": {},
   "cell_type": "markdown",
   "id": "fb98a12e",
   "metadata": {},
   "source": [
    "### nan 값 이해하기\n",
    "\n"
   ]
  },
  {
   "cell_type": "code",
   "execution_count": 24,
   "id": "7d12b519",
   "metadata": {},
   "outputs": [
    {
     "name": "stdout",
     "output_type": "stream",
     "text": [
      "False\n",
      "True\n",
      "False\n",
      "True\n"
     ]
    }
   ],
   "source": [
    "print(np.nan == np.nan)   # nan값은 모든 비교연산자를 했을 때 False이다. not a number\n",
    "print(np.isnan(np.nan))   # isnan 함수는 값이 nan인지 확인한다.\n",
    "\n",
    "import math\n",
    "print(0.3 == 3 * 0.1)   # 3 * 0.1의 결과는 실제로 0.30000000000000004와 같은 근사값이다.\n",
    "print(math.isclose(0.1 + 0.2, 0.3))   # 두 값이 거의 동일한지 검사 , rel_tol 및 abs_tol을 사용하여 비교의 정확도 조정 가능"
   ]
  },
  {
   "attachments": {},
   "cell_type": "markdown",
   "id": "87f765ae",
   "metadata": {},
   "source": [
    "### 5. 12 x 12 매트릭스를 만들어 바둑판 패턴으로 0과 1을 채우세요"
   ]
  },
  {
   "cell_type": "code",
   "execution_count": 35,
   "id": "c5dade12",
   "metadata": {},
   "outputs": [
    {
     "name": "stdout",
     "output_type": "stream",
     "text": [
      "[[0. 0. 0. 0. 0. 0. 0. 0. 0. 0. 0. 0.]\n",
      " [0. 0. 0. 0. 0. 0. 0. 0. 0. 0. 0. 0.]\n",
      " [0. 0. 0. 0. 0. 0. 0. 0. 0. 0. 0. 0.]\n",
      " [0. 0. 0. 0. 0. 0. 0. 0. 0. 0. 0. 0.]\n",
      " [0. 0. 0. 0. 0. 0. 0. 0. 0. 0. 0. 0.]\n",
      " [0. 0. 0. 0. 0. 0. 0. 0. 0. 0. 0. 0.]\n",
      " [0. 0. 0. 0. 0. 0. 0. 0. 0. 0. 0. 0.]\n",
      " [0. 0. 0. 0. 0. 0. 0. 0. 0. 0. 0. 0.]\n",
      " [0. 0. 0. 0. 0. 0. 0. 0. 0. 0. 0. 0.]\n",
      " [0. 0. 0. 0. 0. 0. 0. 0. 0. 0. 0. 0.]\n",
      " [0. 0. 0. 0. 0. 0. 0. 0. 0. 0. 0. 0.]\n",
      " [0. 0. 0. 0. 0. 0. 0. 0. 0. 0. 0. 0.]]\n",
      "\n",
      "[[0. 1. 0. 1. 0. 1. 0. 1. 0. 1. 0. 1.]\n",
      " [1. 0. 1. 0. 1. 0. 1. 0. 1. 0. 1. 0.]\n",
      " [0. 1. 0. 1. 0. 1. 0. 1. 0. 1. 0. 1.]\n",
      " [1. 0. 1. 0. 1. 0. 1. 0. 1. 0. 1. 0.]\n",
      " [0. 1. 0. 1. 0. 1. 0. 1. 0. 1. 0. 1.]\n",
      " [1. 0. 1. 0. 1. 0. 1. 0. 1. 0. 1. 0.]\n",
      " [0. 1. 0. 1. 0. 1. 0. 1. 0. 1. 0. 1.]\n",
      " [1. 0. 1. 0. 1. 0. 1. 0. 1. 0. 1. 0.]\n",
      " [0. 1. 0. 1. 0. 1. 0. 1. 0. 1. 0. 1.]\n",
      " [1. 0. 1. 0. 1. 0. 1. 0. 1. 0. 1. 0.]\n",
      " [0. 1. 0. 1. 0. 1. 0. 1. 0. 1. 0. 1.]\n",
      " [1. 0. 1. 0. 1. 0. 1. 0. 1. 0. 1. 0.]]\n"
     ]
    }
   ],
   "source": [
    "x = np.zeros((12, 12))\n",
    "print(x, end='\\n\\n')\n",
    "###############\n",
    "# 슬라이싱을 사용하세요\n",
    "x[1::2, ::2] = 1   # ::2는 0, 2, 4, ... 인덱스를 선택\n",
    "x[::2, 1::2] = 1   # 1::2는 1, 3, 5, ... 인덱스를 선택하여 1을 할당\n",
    "###############\n",
    "print(x)"
   ]
  },
  {
   "attachments": {},
   "cell_type": "markdown",
   "id": "8765875e",
   "metadata": {},
   "source": [
    "### 6. np.tile 을 이용해서 동일한 바둑판 배턴을 만들어보세요"
   ]
  },
  {
   "cell_type": "code",
   "execution_count": 36,
   "id": "fe6834dd",
   "metadata": {},
   "outputs": [
    {
     "name": "stdout",
     "output_type": "stream",
     "text": [
      "[[0. 1. 0. ... 1. 0. 1.]\n",
      " [1. 0. 1. ... 0. 1. 0.]\n",
      " [0. 1. 0. ... 1. 0. 1.]\n",
      " ...\n",
      " [1. 0. 1. ... 0. 1. 0.]\n",
      " [0. 1. 0. ... 1. 0. 1.]\n",
      " [1. 0. 1. ... 0. 1. 0.]]\n"
     ]
    }
   ],
   "source": [
    "x = np.tile(x,(12,12))\n",
    "print(x)"
   ]
  },
  {
   "attachments": {},
   "cell_type": "markdown",
   "id": "b1a5847c",
   "metadata": {},
   "source": [
    "### 7. 1차원 배열이 x에서 값이 5~10인 요소를 0으로 바꾸세요"
   ]
  },
  {
   "cell_type": "code",
   "execution_count": 43,
   "id": "bd215833",
   "metadata": {},
   "outputs": [
    {
     "name": "stdout",
     "output_type": "stream",
     "text": [
      "[ 2  5  3  8  3 34 23  7 10]\n",
      "[ 2  0  3  0  3 34 23  0  0]\n"
     ]
    }
   ],
   "source": [
    "x = np.array([2,5,3,8,3,34,23,7,10])\n",
    "print(x)\n",
    "##################\n",
    "# 필터링을 사용하세요.\n",
    "x = np.where((x >= 5) & (x <= 10), 0, x)\n",
    "\n",
    "##################\n",
    "print(x)"
   ]
  },
  {
   "attachments": {},
   "cell_type": "markdown",
   "id": "d5bd1501",
   "metadata": {},
   "source": [
    "### 8. 0에서 100 사이의 값으로 크기가 10인 1차원 array를 만드세요"
   ]
  },
  {
   "cell_type": "code",
   "execution_count": 45,
   "id": "88e38f0e",
   "metadata": {},
   "outputs": [
    {
     "name": "stdout",
     "output_type": "stream",
     "text": [
      "[  0.          11.11111111  22.22222222  33.33333333  44.44444444\n",
      "  55.55555556  66.66666667  77.77777778  88.88888889 100.        ]\n"
     ]
    }
   ],
   "source": [
    "# x = np.random.randint(0, 100, size=10)\n",
    "x = np.linspace(0, 100, 10)\n",
    "print(x)"
   ]
  },
  {
   "attachments": {},
   "cell_type": "markdown",
   "id": "143e78e1",
   "metadata": {},
   "source": [
    "### 9. np.allclose() 함수를 사용하여 2개의 array가 같은지를 확인해보세요"
   ]
  },
  {
   "cell_type": "code",
   "execution_count": 46,
   "id": "56449e50",
   "metadata": {},
   "outputs": [
    {
     "name": "stdout",
     "output_type": "stream",
     "text": [
      "True\n"
     ]
    }
   ],
   "source": [
    "A = np.array([1e10,1e-8])\n",
    "B = np.array([1.00001e10,1e-9])\n",
    "\n",
    "equal = np.allclose(A,B)\n",
    "print(equal)"
   ]
  },
  {
   "attachments": {},
   "cell_type": "markdown",
   "id": "f43549ba",
   "metadata": {},
   "source": [
    "np.allclose() 함수는 두 개의 배열이 동일한지 검사합니다. \n",
    "\n",
    "주어진 두 배열의 모든 요소들이 매우 유사하면(True) 동일함으로 판단"
   ]
  },
  {
   "attachments": {},
   "cell_type": "markdown",
   "id": "26819557",
   "metadata": {},
   "source": [
    "### 10. 데카르트 좌표를 나타내는 랜덤 8 x 2 행렬을 고려하여 극좌표로 변환해보세요."
   ]
  },
  {
   "cell_type": "code",
   "execution_count": 49,
   "id": "4136e249",
   "metadata": {},
   "outputs": [
    {
     "name": "stdout",
     "output_type": "stream",
     "text": [
      "[[0.82208074 1.15563059]\n",
      " [0.33152658 0.61459147]\n",
      " [0.7977142  0.90137748]\n",
      " [0.81710512 0.21749995]\n",
      " [0.87181427 0.6508245 ]\n",
      " [1.13134345 1.06316666]\n",
      " [0.54847019 0.43648332]\n",
      " [0.67247316 1.11435702]\n",
      " [0.80917834 1.53903147]\n",
      " [1.07883555 0.90349533]]\n"
     ]
    }
   ],
   "source": [
    "coord = np.random.random((10,2))\n",
    "x, y = coord[:,0], coord[:,1]\n",
    "r = np.sqrt(x**2 + y**2)\n",
    "theta = np.arctan2(y,x)\n",
    "\n",
    "ploar_coord = np.concatenate([r[:,np.newaxis], theta[:,np.newaxis]],axis=1)\n",
    "print(ploar_coord)"
   ]
  }
 ],
 "metadata": {
  "kernelspec": {
   "display_name": "Python 3 (ipykernel)",
   "language": "python",
   "name": "python3"
  },
  "language_info": {
   "codemirror_mode": {
    "name": "ipython",
    "version": 3
   },
   "file_extension": ".py",
   "mimetype": "text/x-python",
   "name": "python",
   "nbconvert_exporter": "python",
   "pygments_lexer": "ipython3",
   "version": "3.11.3"
  }
 },
 "nbformat": 4,
 "nbformat_minor": 5
}
